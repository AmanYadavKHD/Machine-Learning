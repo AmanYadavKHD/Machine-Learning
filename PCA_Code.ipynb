{
  "metadata": {
    "kernelspec": {
      "language": "python",
      "display_name": "Python 3",
      "name": "python3"
    },
    "language_info": {
      "name": "python",
      "version": "3.10.13",
      "mimetype": "text/x-python",
      "codemirror_mode": {
        "name": "ipython",
        "version": 3
      },
      "pygments_lexer": "ipython3",
      "nbconvert_exporter": "python",
      "file_extension": ".py"
    },
    "kaggle": {
      "accelerator": "none",
      "dataSources": [
        {
          "sourceId": 3004,
          "databundleVersionId": 861823,
          "sourceType": "competition"
        }
      ],
      "dockerImageVersionId": 30732,
      "isInternetEnabled": false,
      "language": "python",
      "sourceType": "notebook",
      "isGpuEnabled": false
    },
    "colab": {
      "name": "PCA-Code",
      "provenance": [],
      "include_colab_link": true
    }
  },
  "nbformat_minor": 0,
  "nbformat": 4,
  "cells": [
    {
      "cell_type": "markdown",
      "metadata": {
        "id": "view-in-github",
        "colab_type": "text"
      },
      "source": [
        "<a href=\"https://colab.research.google.com/github/AmanYadavKHD/Machine-Learning/blob/main/PCA_Code.ipynb\" target=\"_parent\"><img src=\"https://colab.research.google.com/assets/colab-badge.svg\" alt=\"Open In Colab\"/></a>"
      ]
    },
    {
      "source": [
        "\n",
        "# IMPORTANT: RUN THIS CELL IN ORDER TO IMPORT YOUR KAGGLE DATA SOURCES\n",
        "# TO THE CORRECT LOCATION (/kaggle/input) IN YOUR NOTEBOOK,\n",
        "# THEN FEEL FREE TO DELETE THIS CELL.\n",
        "# NOTE: THIS NOTEBOOK ENVIRONMENT DIFFERS FROM KAGGLE'S PYTHON\n",
        "# ENVIRONMENT SO THERE MAY BE MISSING LIBRARIES USED BY YOUR\n",
        "# NOTEBOOK.\n",
        "\n",
        "import os\n",
        "import sys\n",
        "from tempfile import NamedTemporaryFile\n",
        "from urllib.request import urlopen\n",
        "from urllib.parse import unquote, urlparse\n",
        "from urllib.error import HTTPError\n",
        "from zipfile import ZipFile\n",
        "import tarfile\n",
        "import shutil\n",
        "\n",
        "CHUNK_SIZE = 40960\n",
        "DATA_SOURCE_MAPPING = 'digit-recognizer:https%3A%2F%2Fstorage.googleapis.com%2Fkaggle-competitions-data%2Fkaggle-v2%2F3004%2F861823%2Fbundle%2Farchive.zip%3FX-Goog-Algorithm%3DGOOG4-RSA-SHA256%26X-Goog-Credential%3Dgcp-kaggle-com%2540kaggle-161607.iam.gserviceaccount.com%252F20240616%252Fauto%252Fstorage%252Fgoog4_request%26X-Goog-Date%3D20240616T105738Z%26X-Goog-Expires%3D259200%26X-Goog-SignedHeaders%3Dhost%26X-Goog-Signature%3D843ebd83fa807cebf79c70b105f332ec617c11dba7101e042a33a6393f2e1818ab5d1f6bfe3bfdd0494da1f6627cf6d3b985ba981e1c29e19a7f5a98cb67b973ccdb5e2491148696c63fee7e85a35fca1c795c976eb6a6ceb90165f4feb583f27373e8f589425f6ecd5c440c7a60a6ab803f997ea59e43f317e437c5a0fa3ac7216f9ad24898ebb064232d458da90cf55889d46833eec9ef0821da1d7a3cca5ba20509098188b922fe8b1f7824eb043e1f8f6d245e19ddd87dbece3a17346e1984d45c21942164c1b22197cc4078f6aca56728d13741f9e72a455635f99895b2ab7d4d1527a1964f9fa639fbffd58dc6e1954750bc8fe6372f66b3d6dcfd5487'\n",
        "\n",
        "KAGGLE_INPUT_PATH='/kaggle/input'\n",
        "KAGGLE_WORKING_PATH='/kaggle/working'\n",
        "KAGGLE_SYMLINK='kaggle'\n",
        "\n",
        "!umount /kaggle/input/ 2> /dev/null\n",
        "shutil.rmtree('/kaggle/input', ignore_errors=True)\n",
        "os.makedirs(KAGGLE_INPUT_PATH, 0o777, exist_ok=True)\n",
        "os.makedirs(KAGGLE_WORKING_PATH, 0o777, exist_ok=True)\n",
        "\n",
        "try:\n",
        "  os.symlink(KAGGLE_INPUT_PATH, os.path.join(\"..\", 'input'), target_is_directory=True)\n",
        "except FileExistsError:\n",
        "  pass\n",
        "try:\n",
        "  os.symlink(KAGGLE_WORKING_PATH, os.path.join(\"..\", 'working'), target_is_directory=True)\n",
        "except FileExistsError:\n",
        "  pass\n",
        "\n",
        "for data_source_mapping in DATA_SOURCE_MAPPING.split(','):\n",
        "    directory, download_url_encoded = data_source_mapping.split(':')\n",
        "    download_url = unquote(download_url_encoded)\n",
        "    filename = urlparse(download_url).path\n",
        "    destination_path = os.path.join(KAGGLE_INPUT_PATH, directory)\n",
        "    try:\n",
        "        with urlopen(download_url) as fileres, NamedTemporaryFile() as tfile:\n",
        "            total_length = fileres.headers['content-length']\n",
        "            print(f'Downloading {directory}, {total_length} bytes compressed')\n",
        "            dl = 0\n",
        "            data = fileres.read(CHUNK_SIZE)\n",
        "            while len(data) > 0:\n",
        "                dl += len(data)\n",
        "                tfile.write(data)\n",
        "                done = int(50 * dl / int(total_length))\n",
        "                sys.stdout.write(f\"\\r[{'=' * done}{' ' * (50-done)}] {dl} bytes downloaded\")\n",
        "                sys.stdout.flush()\n",
        "                data = fileres.read(CHUNK_SIZE)\n",
        "            if filename.endswith('.zip'):\n",
        "              with ZipFile(tfile) as zfile:\n",
        "                zfile.extractall(destination_path)\n",
        "            else:\n",
        "              with tarfile.open(tfile.name) as tarfile:\n",
        "                tarfile.extractall(destination_path)\n",
        "            print(f'\\nDownloaded and uncompressed: {directory}')\n",
        "    except HTTPError as e:\n",
        "        print(f'Failed to load (likely expired) {download_url} to path {destination_path}')\n",
        "        continue\n",
        "    except OSError as e:\n",
        "        print(f'Failed to load {download_url} to path {destination_path}')\n",
        "        continue\n",
        "\n",
        "print('Data source import complete.')\n"
      ],
      "metadata": {
        "id": "S2Yg3jG0sh4L"
      },
      "cell_type": "code",
      "outputs": [],
      "execution_count": null
    },
    {
      "cell_type": "code",
      "source": [
        "# This Python 3 environment comes with many helpful analytics libraries installed\n",
        "# It is defined by the kaggle/python Docker image: https://github.com/kaggle/docker-python\n",
        "# For example, here's several helpful packages to load\n",
        "\n",
        "import numpy as np # linear algebra\n",
        "import pandas as pd # data processing, CSV file I/O (e.g. pd.read_csv)\n",
        "\n",
        "# Input data files are available in the read-only \"../input/\" directory\n",
        "# For example, running this (by clicking run or pressing Shift+Enter) will list all files under the input directory\n",
        "\n",
        "import os\n",
        "for dirname, _, filenames in os.walk('/kaggle/input'):\n",
        "    for filename in filenames:\n",
        "        print(os.path.join(dirname, filename))\n",
        "\n",
        "# You can write up to 20GB to the current directory (/kaggle/working/) that gets preserved as output when you create a version using \"Save & Run All\"\n",
        "# You can also write temporary files to /kaggle/temp/, but they won't be saved outside of the current session"
      ],
      "metadata": {
        "_uuid": "8f2839f25d086af736a60e9eeb907d3b93b6e0e5",
        "_cell_guid": "b1076dfc-b9ad-4769-8c92-a6c4dae69d19",
        "execution": {
          "iopub.status.busy": "2024-06-16T10:09:13.761869Z",
          "iopub.execute_input": "2024-06-16T10:09:13.762313Z",
          "iopub.status.idle": "2024-06-16T10:09:13.773688Z",
          "shell.execute_reply.started": "2024-06-16T10:09:13.76228Z",
          "shell.execute_reply": "2024-06-16T10:09:13.772415Z"
        },
        "trusted": true,
        "id": "VmvTvnN3sh4O"
      },
      "execution_count": null,
      "outputs": []
    },
    {
      "cell_type": "code",
      "source": [
        "df = pd.read_csv('/kaggle/input/digit-recognizer/train.csv')"
      ],
      "metadata": {
        "execution": {
          "iopub.status.busy": "2024-06-16T10:09:13.802801Z",
          "iopub.execute_input": "2024-06-16T10:09:13.803236Z",
          "iopub.status.idle": "2024-06-16T10:09:17.374531Z",
          "shell.execute_reply.started": "2024-06-16T10:09:13.803201Z",
          "shell.execute_reply": "2024-06-16T10:09:17.373324Z"
        },
        "trusted": true,
        "id": "BWSpiv1tsh4O"
      },
      "execution_count": null,
      "outputs": []
    },
    {
      "cell_type": "code",
      "source": [
        "df.head()"
      ],
      "metadata": {
        "execution": {
          "iopub.status.busy": "2024-06-16T10:09:17.37667Z",
          "iopub.execute_input": "2024-06-16T10:09:17.377143Z",
          "iopub.status.idle": "2024-06-16T10:09:17.399718Z",
          "shell.execute_reply.started": "2024-06-16T10:09:17.377099Z",
          "shell.execute_reply": "2024-06-16T10:09:17.398347Z"
        },
        "trusted": true,
        "id": "zC8o31MOsh4P"
      },
      "execution_count": null,
      "outputs": []
    },
    {
      "cell_type": "code",
      "source": [
        "df.sample()"
      ],
      "metadata": {
        "execution": {
          "iopub.status.busy": "2024-06-16T10:09:17.401182Z",
          "iopub.execute_input": "2024-06-16T10:09:17.401621Z",
          "iopub.status.idle": "2024-06-16T10:09:17.426473Z",
          "shell.execute_reply.started": "2024-06-16T10:09:17.40159Z",
          "shell.execute_reply": "2024-06-16T10:09:17.425274Z"
        },
        "trusted": true,
        "id": "EDiRbiwnsh4R"
      },
      "execution_count": null,
      "outputs": []
    },
    {
      "cell_type": "code",
      "source": [
        "from matplotlib import pyplot as plt"
      ],
      "metadata": {
        "execution": {
          "iopub.status.busy": "2024-06-16T10:09:17.428127Z",
          "iopub.execute_input": "2024-06-16T10:09:17.428583Z",
          "iopub.status.idle": "2024-06-16T10:09:17.438587Z",
          "shell.execute_reply.started": "2024-06-16T10:09:17.428551Z",
          "shell.execute_reply": "2024-06-16T10:09:17.437226Z"
        },
        "trusted": true,
        "id": "btS6FMXYsh4R"
      },
      "execution_count": null,
      "outputs": []
    },
    {
      "cell_type": "code",
      "source": [
        "for i in range(0,5):\n",
        "  plt.imshow(df.iloc[i,1:].values.reshape(28,28))"
      ],
      "metadata": {
        "execution": {
          "iopub.status.busy": "2024-06-16T10:09:17.441572Z",
          "iopub.execute_input": "2024-06-16T10:09:17.441975Z",
          "iopub.status.idle": "2024-06-16T10:09:17.782585Z",
          "shell.execute_reply.started": "2024-06-16T10:09:17.441935Z",
          "shell.execute_reply": "2024-06-16T10:09:17.781288Z"
        },
        "trusted": true,
        "id": "p7gBiRQJsh4S"
      },
      "execution_count": null,
      "outputs": []
    },
    {
      "cell_type": "code",
      "source": [
        "X=df.iloc[:,1:]\n",
        "y=df.iloc[:,0]"
      ],
      "metadata": {
        "execution": {
          "iopub.status.busy": "2024-06-16T10:09:17.784434Z",
          "iopub.execute_input": "2024-06-16T10:09:17.784904Z",
          "iopub.status.idle": "2024-06-16T10:09:17.791956Z",
          "shell.execute_reply.started": "2024-06-16T10:09:17.784861Z",
          "shell.execute_reply": "2024-06-16T10:09:17.790507Z"
        },
        "trusted": true,
        "id": "to-rmMfmsh4S"
      },
      "execution_count": null,
      "outputs": []
    },
    {
      "cell_type": "code",
      "source": [
        "from sklearn.model_selection import train_test_split\n",
        "X_train,X_test,y_train,y_test=train_test_split(X,y,test_size=0.2,random_state=42)"
      ],
      "metadata": {
        "execution": {
          "iopub.status.busy": "2024-06-16T10:09:17.793674Z",
          "iopub.execute_input": "2024-06-16T10:09:17.794045Z",
          "iopub.status.idle": "2024-06-16T10:09:18.033456Z",
          "shell.execute_reply.started": "2024-06-16T10:09:17.794014Z",
          "shell.execute_reply": "2024-06-16T10:09:18.031541Z"
        },
        "trusted": true,
        "id": "wvs2FAXTsh4S"
      },
      "execution_count": null,
      "outputs": []
    },
    {
      "cell_type": "code",
      "source": [
        "from sklearn.neighbors import KNeighborsClassifier\n",
        "knn = KNeighborsClassifier()\n",
        "knn.fit(X_train,y_train)"
      ],
      "metadata": {
        "execution": {
          "iopub.status.busy": "2024-06-16T10:09:18.034821Z",
          "iopub.execute_input": "2024-06-16T10:09:18.035362Z",
          "iopub.status.idle": "2024-06-16T10:09:18.176017Z",
          "shell.execute_reply.started": "2024-06-16T10:09:18.035318Z",
          "shell.execute_reply": "2024-06-16T10:09:18.174597Z"
        },
        "trusted": true,
        "id": "LsZIk72osh4S"
      },
      "execution_count": null,
      "outputs": []
    },
    {
      "cell_type": "code",
      "source": [
        "import time\n",
        "start=time.time()\n",
        "y_pred=knn.predict(X_test)\n",
        "print(time.time()-start)"
      ],
      "metadata": {
        "execution": {
          "iopub.status.busy": "2024-06-16T10:09:18.17746Z",
          "iopub.execute_input": "2024-06-16T10:09:18.177797Z",
          "iopub.status.idle": "2024-06-16T10:09:31.385617Z",
          "shell.execute_reply.started": "2024-06-16T10:09:18.177769Z",
          "shell.execute_reply": "2024-06-16T10:09:31.384195Z"
        },
        "trusted": true,
        "id": "5e8OhLpbsh4T"
      },
      "execution_count": null,
      "outputs": []
    },
    {
      "cell_type": "code",
      "source": [
        "from sklearn.metrics import accuracy_score\n",
        "accuracy_score(y_test,y_pred)"
      ],
      "metadata": {
        "execution": {
          "iopub.status.busy": "2024-06-16T10:09:31.387138Z",
          "iopub.execute_input": "2024-06-16T10:09:31.387555Z",
          "iopub.status.idle": "2024-06-16T10:09:31.398718Z",
          "shell.execute_reply.started": "2024-06-16T10:09:31.387521Z",
          "shell.execute_reply": "2024-06-16T10:09:31.39734Z"
        },
        "trusted": true,
        "id": "HR4YCuBNsh4T"
      },
      "execution_count": null,
      "outputs": []
    },
    {
      "cell_type": "markdown",
      "source": [
        "NOW USING PCA."
      ],
      "metadata": {
        "id": "tYqqljsAsh4T"
      }
    },
    {
      "cell_type": "code",
      "source": [
        "from sklearn.preprocessing import StandardScaler\n",
        "scaler = StandardScaler()"
      ],
      "metadata": {
        "execution": {
          "iopub.status.busy": "2024-06-16T10:09:31.400459Z",
          "iopub.execute_input": "2024-06-16T10:09:31.400968Z",
          "iopub.status.idle": "2024-06-16T10:09:31.407403Z",
          "shell.execute_reply.started": "2024-06-16T10:09:31.400921Z",
          "shell.execute_reply": "2024-06-16T10:09:31.406311Z"
        },
        "trusted": true,
        "id": "cmlay544sh4U"
      },
      "execution_count": null,
      "outputs": []
    },
    {
      "cell_type": "code",
      "source": [
        "X_train = scaler.fit_transform(X_train)\n",
        "X_test = scaler.transform(X_test)"
      ],
      "metadata": {
        "execution": {
          "iopub.status.busy": "2024-06-16T10:09:31.408939Z",
          "iopub.execute_input": "2024-06-16T10:09:31.409464Z",
          "iopub.status.idle": "2024-06-16T10:09:31.914749Z",
          "shell.execute_reply.started": "2024-06-16T10:09:31.409421Z",
          "shell.execute_reply": "2024-06-16T10:09:31.913661Z"
        },
        "trusted": true,
        "id": "l0Q01xqPsh4V"
      },
      "execution_count": null,
      "outputs": []
    },
    {
      "cell_type": "code",
      "source": [
        "#PCA\n",
        "from sklearn.decomposition import PCA\n",
        "pca= PCA(n_components=300)\n"
      ],
      "metadata": {
        "execution": {
          "iopub.status.busy": "2024-06-16T10:23:18.473268Z",
          "iopub.execute_input": "2024-06-16T10:23:18.473698Z",
          "iopub.status.idle": "2024-06-16T10:23:18.479479Z",
          "shell.execute_reply.started": "2024-06-16T10:23:18.473663Z",
          "shell.execute_reply": "2024-06-16T10:23:18.47832Z"
        },
        "trusted": true,
        "id": "oKaigD__sh4V"
      },
      "execution_count": null,
      "outputs": []
    },
    {
      "cell_type": "code",
      "source": [
        "X_train_trf = pca.fit_transform(X_train)\n",
        "X_test_trf = pca.transform(X_test)"
      ],
      "metadata": {
        "execution": {
          "iopub.status.busy": "2024-06-16T10:23:20.058473Z",
          "iopub.execute_input": "2024-06-16T10:23:20.059332Z",
          "iopub.status.idle": "2024-06-16T10:23:27.130308Z",
          "shell.execute_reply.started": "2024-06-16T10:23:20.059292Z",
          "shell.execute_reply": "2024-06-16T10:23:27.128317Z"
        },
        "trusted": true,
        "id": "TUIHAwcnsh4V"
      },
      "execution_count": null,
      "outputs": []
    },
    {
      "cell_type": "markdown",
      "source": [
        "* Scale of the X_train,X_test will be same because we are using n_components=None in PCA.\n",
        "* When we use n_components=100, top 100 principal components will come."
      ],
      "metadata": {
        "id": "h8EPtqp0sh4V"
      }
    },
    {
      "cell_type": "code",
      "source": [
        "model=knn.fit(X_train_trf,y_train)"
      ],
      "metadata": {
        "execution": {
          "iopub.status.busy": "2024-06-16T10:23:27.133114Z",
          "iopub.execute_input": "2024-06-16T10:23:27.134055Z",
          "iopub.status.idle": "2024-06-16T10:23:27.201573Z",
          "shell.execute_reply.started": "2024-06-16T10:23:27.13401Z",
          "shell.execute_reply": "2024-06-16T10:23:27.199965Z"
        },
        "trusted": true,
        "id": "JvcV_2xssh4W"
      },
      "execution_count": null,
      "outputs": []
    },
    {
      "cell_type": "code",
      "source": [
        "y_pred_pca=model.predict(X_test_trf)"
      ],
      "metadata": {
        "execution": {
          "iopub.status.busy": "2024-06-16T10:23:28.004336Z",
          "iopub.execute_input": "2024-06-16T10:23:28.004988Z",
          "iopub.status.idle": "2024-06-16T10:23:31.716759Z",
          "shell.execute_reply.started": "2024-06-16T10:23:28.004938Z",
          "shell.execute_reply": "2024-06-16T10:23:31.715675Z"
        },
        "trusted": true,
        "id": "YqyuhjL7sh4W"
      },
      "execution_count": null,
      "outputs": []
    },
    {
      "cell_type": "code",
      "source": [
        "accuracy_score(y_test,y_pred_pca)"
      ],
      "metadata": {
        "execution": {
          "iopub.status.busy": "2024-06-16T10:09:43.64278Z",
          "iopub.execute_input": "2024-06-16T10:09:43.643241Z",
          "iopub.status.idle": "2024-06-16T10:09:43.653055Z",
          "shell.execute_reply.started": "2024-06-16T10:09:43.6432Z",
          "shell.execute_reply": "2024-06-16T10:09:43.651772Z"
        },
        "trusted": true,
        "id": "oYTT1VA3sh4W"
      },
      "execution_count": null,
      "outputs": []
    },
    {
      "cell_type": "code",
      "source": [
        "ls=[]\n",
        "for i in range(1,785):\n",
        "    pca= PCA(n_components=i)\n",
        "    X_train_trf = pca.fit_transform(X_train)\n",
        "    X_test_trf = pca.transform(X_test)\n",
        "    model=knn.fit(X_train_trf,y_train)\n",
        "    y_pred_pca=model.predict(X_test_trf)\n",
        "    ls.append(accuracy_score(y_test,y_pred_pca))\n",
        "\n",
        "print(ls.max())"
      ],
      "metadata": {
        "execution": {
          "iopub.status.busy": "2024-06-16T10:15:05.492836Z",
          "iopub.execute_input": "2024-06-16T10:15:05.49329Z",
          "iopub.status.idle": "2024-06-16T10:16:21.755892Z",
          "shell.execute_reply.started": "2024-06-16T10:15:05.493239Z",
          "shell.execute_reply": "2024-06-16T10:16:21.753882Z"
        },
        "trusted": true,
        "id": "G2_0xOGNsh4W"
      },
      "execution_count": null,
      "outputs": []
    },
    {
      "cell_type": "code",
      "source": [
        "#Eigen values\n",
        "pca.explained_variance_"
      ],
      "metadata": {
        "execution": {
          "iopub.status.busy": "2024-06-16T10:24:45.349411Z",
          "iopub.execute_input": "2024-06-16T10:24:45.349986Z",
          "iopub.status.idle": "2024-06-16T10:24:45.363383Z",
          "shell.execute_reply.started": "2024-06-16T10:24:45.349924Z",
          "shell.execute_reply": "2024-06-16T10:24:45.361616Z"
        },
        "trusted": true,
        "id": "WyIW3iQxsh4W"
      },
      "execution_count": null,
      "outputs": []
    },
    {
      "cell_type": "code",
      "source": [
        "#Eigen vectors\n",
        "pca.components_"
      ],
      "metadata": {
        "execution": {
          "iopub.status.busy": "2024-06-16T10:25:52.72718Z",
          "iopub.execute_input": "2024-06-16T10:25:52.727747Z",
          "iopub.status.idle": "2024-06-16T10:25:52.736067Z",
          "shell.execute_reply.started": "2024-06-16T10:25:52.727708Z",
          "shell.execute_reply": "2024-06-16T10:25:52.734747Z"
        },
        "trusted": true,
        "id": "UIsXEhvRsh4W"
      },
      "execution_count": null,
      "outputs": []
    },
    {
      "cell_type": "markdown",
      "source": [],
      "metadata": {
        "id": "csAEDdVnsh4X"
      }
    },
    {
      "cell_type": "code",
      "source": [
        "pca.components_.shape"
      ],
      "metadata": {
        "execution": {
          "iopub.status.busy": "2024-06-16T10:26:24.558043Z",
          "iopub.execute_input": "2024-06-16T10:26:24.558442Z",
          "iopub.status.idle": "2024-06-16T10:26:24.565434Z",
          "shell.execute_reply.started": "2024-06-16T10:26:24.558411Z",
          "shell.execute_reply": "2024-06-16T10:26:24.564198Z"
        },
        "trusted": true,
        "id": "lbRr3PzFsh4X"
      },
      "execution_count": null,
      "outputs": []
    },
    {
      "cell_type": "markdown",
      "source": [
        "(300,784) means 300 vectors from 784 components of the space."
      ],
      "metadata": {
        "id": "fK1CIjkvsh4Y"
      }
    },
    {
      "cell_type": "code",
      "source": [],
      "metadata": {
        "id": "YdubSF6qsh4Y"
      },
      "execution_count": null,
      "outputs": []
    },
    {
      "cell_type": "code",
      "source": [],
      "metadata": {
        "id": "GSNviB0Ssh4Y"
      },
      "execution_count": null,
      "outputs": []
    }
  ]
}